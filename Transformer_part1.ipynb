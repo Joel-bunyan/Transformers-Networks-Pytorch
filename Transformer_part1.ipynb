{
  "nbformat": 4,
  "nbformat_minor": 0,
  "metadata": {
    "colab": {
      "provenance": []
    },
    "kernelspec": {
      "name": "python3",
      "display_name": "Python 3"
    },
    "language_info": {
      "name": "python"
    }
  },
  "cells": [
    {
      "cell_type": "code",
      "execution_count": null,
      "metadata": {
        "id": "4CcOWsBomv_d"
      },
      "outputs": [],
      "source": [
        "import torch\n",
        "import math\n",
        "from torch import nn\n",
        "import torch.nn.functional as F"
      ]
    },
    {
      "cell_type": "code",
      "source": [
        "def scaled_dot_product_attention(q,k,v,mask=None):\n",
        "  d_k = q.size(-1)\n",
        "  scaled = torch.matmul(q,k.transpose(-1,-2))/math.sqrt(d_k)\n",
        "  attention = F.softmax(scaled)\n",
        "  attention = torch.matmul(attention,v)\n",
        "  if mask is not None:\n",
        "    attention += mask\n",
        "  return attention"
      ],
      "metadata": {
        "id": "iUNt-Y77noCK"
      },
      "execution_count": null,
      "outputs": []
    },
    {
      "cell_type": "code",
      "source": [],
      "metadata": {
        "id": "YAp538lgs0dm"
      },
      "execution_count": null,
      "outputs": []
    },
    {
      "cell_type": "code",
      "source": [
        "class MultiHeadAttention(nn.Module):\n",
        "  def __init__(self,d_model,num_heads):\n",
        "    self.d_model = d_model\n",
        "    self.num_heads = num_heads\n",
        "    self.qkv_layer = nn.Linear(d_model,3*d_model)\n",
        "    self.head_dim = d_model // num_heads\n",
        "    self.linear_layer = nn.Linear(d_model,d_model)\n",
        "\n",
        "  def forward(self,x,mask=None):\n",
        "    sequence_length, dim = x.size()\n",
        "    qkv = self.qkv_layer(x)\n",
        "    qkv = qkv.reshape(sequence_length,self.num_heads,3*self.head_dim)\n",
        "    q,k,v = qkv.chunk(3)\n",
        "    attention = scaled_dot_product_attention(q,k,v,mask)\n",
        "    attention = attention.reshape(sequence_length,self.num_heads*self.head_dim)\n",
        "    out = self.linear_layer(attention)"
      ],
      "metadata": {
        "id": "dP8Iy8cmou5P"
      },
      "execution_count": null,
      "outputs": []
    },
    {
      "cell_type": "code",
      "source": [
        "class LayerNormalization(nn.Module):\n",
        "  def __init__(self,parameter_shape,epsilon=1e-5):\n",
        "    self.parameter_shape = parameter_shape\n",
        "    self.epsilon = epsilon\n",
        "    self.gamma = nn.Parameter(torch.ones(parameter_shape))\n",
        "    self.beta = nn.Paramreter(torch.ones(parameter_shape)):\n",
        "  def forward(self,inputs):\n",
        "    mean = inputs.mean()\n",
        "    std = ((inputs-mean)**2).mean()\n",
        "    std = (std + self.epsilon).sqrt()\n",
        "    y = (inputs-mean)/std\n",
        "    out = y*self.gamma + self.beta\n",
        "    return out"
      ],
      "metadata": {
        "id": "ri4LbqHbtLCq"
      },
      "execution_count": null,
      "outputs": []
    },
    {
      "cell_type": "code",
      "source": [
        "class FeedForward(nn.Module):\n",
        "  def __init__(self,d_model,hidden,drop_prob):\n",
        "    self.linear1 = nn.Linear(d_model,hidden)\n",
        "    self.linear2 = nn.Linear(hidden,d_model)\n",
        "    self.relu = nn.ReLU()\n",
        "    self.dropout = nn.Dropout(p=drop_prob)\n",
        "  def forward(self,x):\n",
        "    x = self.linear1(x)\n",
        "    x = self.relu(x)\n",
        "    x = self.dropout(x)\n",
        "    x = self.linear2(x)\n",
        "    return x"
      ],
      "metadata": {
        "id": "KjsmE2uHuMVx"
      },
      "execution_count": null,
      "outputs": []
    },
    {
      "cell_type": "code",
      "source": [
        "class EncoderLayer(nn.Module):\n",
        "  def __init__(self,d_model,ffn_hidden,num_heads,drop_prob):\n",
        "    self.attention = MultiHeadAttention(d_model=d_model,num_heads=num_heads)\n",
        "    self.norm1 = LayerNormalization(parameter_shape=[d_model])\n",
        "    self.norm2 = LayerNormalization(parameter_shape=[d_model])\n",
        "    self.ffn = FeedForward(d_model,ffn_hidden,drop_prob)\n",
        "  def forward(self,x):\n",
        "    residual_x = x\n",
        "    x = self.attention(x)\n",
        "    x = self.norm1(x+residual_x)\n",
        "    res_x = x\n",
        "    x = self.ffn(x)\n",
        "    x = self.norm1(x+res_x)\n",
        "    return x"
      ],
      "metadata": {
        "id": "nopij4Dsu0PD"
      },
      "execution_count": null,
      "outputs": []
    },
    {
      "cell_type": "code",
      "source": [
        "class Encoder(nn.Module):\n",
        "  def __init__(self,d_model,ffn_hidden,num_heads,drop_prob,num_encoders):\n",
        "    layers = nn.Sequential(*[EncoderLayer(d_model,ffn_hidden,num_heads,drop_prob) for _ in range(num_encoders)])\n",
        "  def forward(self,x):\n",
        "    x = self.layers(x)\n",
        "    return x"
      ],
      "metadata": {
        "id": "2dMKX_gav2hj"
      },
      "execution_count": null,
      "outputs": []
    }
  ]
}