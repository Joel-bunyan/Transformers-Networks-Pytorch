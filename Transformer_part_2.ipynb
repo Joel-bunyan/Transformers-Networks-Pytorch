{
  "nbformat": 4,
  "nbformat_minor": 0,
  "metadata": {
    "colab": {
      "provenance": []
    },
    "kernelspec": {
      "name": "python3",
      "display_name": "Python 3"
    },
    "language_info": {
      "name": "python"
    }
  },
  "cells": [
    {
      "cell_type": "code",
      "execution_count": null,
      "metadata": {
        "id": "Z5pftLvbzhrM"
      },
      "outputs": [],
      "source": [
        "import torch\n",
        "import math\n",
        "from torch import nn\n",
        "import torch.nn.functional as F"
      ]
    },
    {
      "cell_type": "code",
      "source": [
        "def scaled_dot_product_attention(q,k,v,mask=None):\n",
        "  d_k = q.size(-1)\n",
        "  scaled = torch.matmul(q,k.transpose(-1,-2))/math.sqrt(d_k)\n",
        "  attention = F.softmax(scaled)\n",
        "  attention = torch.matmul(attention,v)\n",
        "  if mask is not None:\n",
        "    attention += mask\n",
        "  return attention"
      ],
      "metadata": {
        "id": "IPu87esVzw8-"
      },
      "execution_count": null,
      "outputs": []
    },
    {
      "cell_type": "code",
      "source": [
        "class FeedForward(nn.Module):\n",
        "  def __init__(self,d_model,hidden,drop_prob):\n",
        "    self.linear1 = nn.Linear(d_model,hidden)\n",
        "    self.linear2 = nn.Linear(hidden,d_model)\n",
        "    self.relu = nn.ReLU()\n",
        "    self.dropout = nn.Dropout(p=drop_prob)\n",
        "  def forward(self,x):\n",
        "    x = self.linear1(x)\n",
        "    x = self.relu(x)\n",
        "    x = self.dropout(x)\n",
        "    x = self.linear2(x)\n",
        "    return x\n"
      ],
      "metadata": {
        "id": "3s8bfiFjz4xV"
      },
      "execution_count": null,
      "outputs": []
    },
    {
      "cell_type": "code",
      "source": [
        "class LayerNormalization(nn.Module):\n",
        "  def __init__(self,parameter_shape,epsilon=1e-5):\n",
        "    self.parameter_shape = parameter_shape\n",
        "    self.epsilon = epsilon\n",
        "    self.gamma = nn.Parameter(torch.ones(parameter_shape))\n",
        "    self.beta = nn.Paramreter(torch.ones(parameter_shape))\n",
        "  def forward(self,inputs):\n",
        "    mean = inputs.mean()\n",
        "    std = ((inputs-mean)**2).mean()\n",
        "    std = (std + self.epsilon).sqrt()\n",
        "    y = (inputs-mean)/std\n",
        "    out = y*self.gamma + self.beta\n",
        "    return out"
      ],
      "metadata": {
        "id": "OJ1jAyRb0BCM"
      },
      "execution_count": null,
      "outputs": []
    },
    {
      "cell_type": "code",
      "source": [
        "class MultiHeadAttention(nn.Module):\n",
        "  def __init__(self,d_model,num_heads):\n",
        "    self.d_model = d_model # 512\n",
        "    self.num_heads = num_heads# 8\n",
        "    self.qkv_layer = nn.Linear(d_model,3*d_model) # 1536\n",
        "    self.head_dim = d_model // num_heads\n",
        "    self.linear_layer = nn.Linear(d_model,d_model) # 512\n",
        "\n",
        "  def forward(self,x,mask=None):\n",
        "    sequence_length, dim = x.size() # 200 x 512\n",
        "    qkv = self.qkv_layer(x)\n",
        "    qkv = qkv.reshape(sequence_length,self.num_heads,3*self.head_dim) # 200 x 8 x 192\n",
        "    qkv = qkv.permute(1, 0, 2) # 8 x 200 x 192\n",
        "    q,k,v = qkv.chunk(3)\n",
        "    attention = scaled_dot_product_attention(q,k,v,mask)\n",
        "    attention = attention.reshape(sequence_length,self.num_heads*self.head_dim) # 200 x 512\n",
        "    out = self.linear_layer(attention)"
      ],
      "metadata": {
        "id": "b8oDukZ60EMH"
      },
      "execution_count": null,
      "outputs": []
    },
    {
      "cell_type": "code",
      "source": [
        "class MultiHeadCrossAttention(nn.Module):\n",
        "\n",
        "    def __init__(self, d_model, num_heads):\n",
        "        super().__init__()\n",
        "        self.d_model = d_model\n",
        "        self.num_heads = num_heads\n",
        "        self.head_dim = d_model // num_heads\n",
        "        self.kv_layer = nn.Linear(d_model , 2 * d_model) # 1024\n",
        "        self.q_layer = nn.Linear(d_model , d_model)\n",
        "        self.linear_layer = nn.Linear(d_model, d_model)\n",
        "\n",
        "    def forward(self, x, y, mask=None):\n",
        "        sequence_length, d_model = x.size() # 200 x 512\n",
        "        kv = self.kv_layer(x) # 200 x 1024\n",
        "        q = self.q_layer(y) # 200 x 512\n",
        "        kv = kv.reshape(sequence_length, self.num_heads, 2 * self.head_dim)  #  200 x 8 x 128\n",
        "        q = q.reshape(sequence_length, self.num_heads, self.head_dim)  # 200 x 8 x 64\n",
        "        kv = kv.permute(1,0,2) #  8 x 200 x 128\n",
        "        q = q.permute(1,0,2) #  8 x 200 x 64\n",
        "        k, v = kv.chunk(2, dim=-1) # K:  8 x 200 x 64, v: 8 x 200 x 64\n",
        "        values, attention = scaled_dot_product_attention(q, k, v, mask) #  8 x 200 x 64\n",
        "        values = values.reshape(sequence_length, d_model) #   200 x 512\n",
        "        out = self.linear_layer(values)  #  200 x 512\n",
        "        return out  #  200 x 512"
      ],
      "metadata": {
        "id": "kkFZkoQn0SoP"
      },
      "execution_count": null,
      "outputs": []
    },
    {
      "cell_type": "code",
      "source": [
        "class DecoderLayer(nn.Module):\n",
        "\n",
        "    def __init__(self, d_model, ffn_hidden, num_heads, drop_prob):\n",
        "        super(DecoderLayer, self).__init__()\n",
        "        self.self_attention = MultiHeadAttention(d_model=d_model, num_heads=num_heads)\n",
        "        self.norm1 = LayerNormalization(parameters_shape=[d_model])\n",
        "        self.dropout1 = nn.Dropout(p=drop_prob)\n",
        "        self.encoder_decoder_attention = MultiHeadCrossAttention(d_model=d_model, num_heads=num_heads)\n",
        "        self.norm2 = LayerNormalization(parameters_shape=[d_model])\n",
        "        self.dropout2 = nn.Dropout(p=drop_prob)\n",
        "        self.ffn = FeedForward(d_model=d_model, hidden=ffn_hidden, drop_prob=drop_prob)\n",
        "        self.norm3 = LayerNormalization(parameters_shape=[d_model])\n",
        "        self.dropout3 = nn.Dropout(p=drop_prob)\n",
        "\n",
        "    def forward(self, x, y, decoder_mask):\n",
        "        resy = y\n",
        "        y = self.self_attention(y, mask=decoder_mask)\n",
        "        y = self.dropout1(y)\n",
        "        y = self.norm1(y + resy)\n",
        "\n",
        "        resy = y\n",
        "        y = self.encoder_decoder_attention(x, y, mask=None)\n",
        "        y = self.dropout2(y)\n",
        "        y = self.norm2(y + resy)\n",
        "\n",
        "        resy = y\n",
        "\n",
        "        y = self.ffn(y)\n",
        "        y = self.dropout3(y)\n",
        "        y = self.norm3(y + resy)\n",
        "        return y\n",
        "\n",
        "class SequentialDecoder(nn.Sequential):\n",
        "    def forward(self, *inputs):\n",
        "        x, y, mask = inputs\n",
        "        for module in self._modules.values():\n",
        "            y = module(x, y, mask)\n",
        "        return y\n",
        "\n",
        "class Decoder(nn.Module):\n",
        "    def __init__(self, d_model, ffn_hidden, num_heads, drop_prob, num_layers=1):\n",
        "        super().__init__()\n",
        "        self.layers = SequentialDecoder(*[DecoderLayer(d_model, ffn_hidden, num_heads, drop_prob)\n",
        "                                          for _ in range(num_layers)])\n",
        "\n",
        "    def forward(self, x, y, mask):\n",
        "        y = self.layers(x, y, mask)\n",
        "        return y"
      ],
      "metadata": {
        "id": "5xHwIlLK25Ug"
      },
      "execution_count": null,
      "outputs": []
    }
  ]
}